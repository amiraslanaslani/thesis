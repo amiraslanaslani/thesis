{
 "cells": [
  {
   "cell_type": "code",
   "execution_count": 1,
   "id": "5ec05880",
   "metadata": {},
   "outputs": [],
   "source": [
    "%matplotlib inline\n",
    "import random\n",
    "\n",
    "import numpy as np\n",
    "import torch\n",
    "from bindsnet.network import Network\n",
    "from bindsnet.network.monitors import Monitor\n",
    "from bindsnet.network.nodes import Input, LIFNodes, IzhikevichNodes\n",
    "from bindsnet.learning import PostPre\n",
    "from bindsnet.network.topology import Connection\n",
    "from bindsnet.encoding.encoders import BernoulliEncoder\n",
    "\n",
    "# from .RandomConnection import RandomConnection"
   ]
  },
  {
   "cell_type": "code",
   "execution_count": 2,
   "id": "1f278753",
   "metadata": {},
   "outputs": [],
   "source": [
    "from RandomConnection import RandomConnection, RandomConnectionWithInhibitory\n",
    "from Learning import PostPreInh"
   ]
  },
  {
   "cell_type": "code",
   "execution_count": 3,
   "id": "e01d1adc",
   "metadata": {
    "scrolled": true
   },
   "outputs": [
    {
     "data": {
      "text/plain": [
       "<torch._C.Generator at 0x1f773748ef0>"
      ]
     },
     "execution_count": 3,
     "metadata": {},
     "output_type": "execute_result"
    }
   ],
   "source": [
    "seed = 1400\n",
    "random.seed(seed)\n",
    "np.random.seed(seed)\n",
    "torch.cuda.manual_seed_all(seed)\n",
    "torch.manual_seed(seed)"
   ]
  },
  {
   "cell_type": "code",
   "execution_count": 4,
   "id": "91dc413d",
   "metadata": {},
   "outputs": [],
   "source": [
    "device = \"cpu\"\n",
    "nu = 0.001"
   ]
  },
  {
   "cell_type": "code",
   "execution_count": 5,
   "id": "7f15770d",
   "metadata": {},
   "outputs": [],
   "source": [
    "node_args = {\n",
    "    'traces_additive': True,\n",
    "    'sum_input': True,\n",
    "    'refrac': 0,\n",
    "    'traces': True,\n",
    "}\n",
    "\n",
    "pre  = Input(n=1, **node_args)\n",
    "pst  = Input(n=1, **node_args)\n",
    "\n",
    "connection = Connection(\n",
    "    source=pre, target=pst,\n",
    "    update_rule=PostPre, nu=[nu/2, nu],\n",
    "    w=torch.tensor([[0.]])\n",
    ")\n"
   ]
  },
  {
   "cell_type": "code",
   "execution_count": 6,
   "id": "48e03e1d",
   "metadata": {},
   "outputs": [],
   "source": [
    "pre_spikes = []\n",
    "post_spikes = []\n",
    "check_times = []\n",
    "\n",
    "for delta_t in range(-30,30):\n",
    "    pre_s = [False] * 61\n",
    "    post_s = [False] * 61\n",
    "    \n",
    "    pre_s[30] = True\n",
    "    post_s[30 + delta_t] = True\n",
    "    \n",
    "    pre_spikes += pre_s\n",
    "    post_spikes += post_s\n",
    "    check_times.append(len(pre_spikes))\n",
    "    \n",
    "    pre_spikes += [False] * 99\n",
    "    post_spikes += [False] * 99\n",
    "    "
   ]
  },
  {
   "cell_type": "code",
   "execution_count": 7,
   "id": "2bb450f5",
   "metadata": {},
   "outputs": [],
   "source": [
    "pre_spikes = torch.tensor(pre_spikes).view(len(pre_spikes), 1)\n",
    "post_spikes = torch.tensor(post_spikes).view(len(post_spikes), 1)"
   ]
  },
  {
   "cell_type": "code",
   "execution_count": 8,
   "id": "728cabc0",
   "metadata": {},
   "outputs": [],
   "source": [
    "network = Network(dt=1.0)\n",
    "\n",
    "network.add_layer(pre, name=\"pre\")\n",
    "network.add_layer(pst, name=\"post\")\n",
    "network.add_connection(connection, source=\"pre\", target=\"post\")\n",
    "\n",
    "con_monitor = Monitor(obj=connection, state_vars=['w'])\n",
    "network.add_monitor(monitor=con_monitor, name='con_monitor')"
   ]
  },
  {
   "cell_type": "code",
   "execution_count": 9,
   "id": "18d089fb",
   "metadata": {},
   "outputs": [],
   "source": [
    "inputs = {\n",
    "    'pre' : pre_spikes.to(device),\n",
    "    'post': post_spikes.to(device),\n",
    "}"
   ]
  },
  {
   "cell_type": "code",
   "execution_count": 10,
   "id": "c7614cb7",
   "metadata": {},
   "outputs": [
    {
     "name": "stderr",
     "output_type": "stream",
     "text": [
      "100%|█████████████████████████████████████████████████████████████████████| 9600/9600 [00:01<00:00, 5097.11timesteps/s]\n"
     ]
    }
   ],
   "source": [
    "time = pre_spikes.shape[0]\n",
    "\n",
    "network.to(device)\n",
    "network.run(inputs=inputs, time=time)"
   ]
  },
  {
   "cell_type": "code",
   "execution_count": 11,
   "id": "77e6a87d",
   "metadata": {},
   "outputs": [
    {
     "data": {
      "text/plain": [
       "[<matplotlib.lines.Line2D at 0x1f7197c3400>]"
      ]
     },
     "execution_count": 11,
     "metadata": {},
     "output_type": "execute_result"
    },
    {
     "data": {
      "image/png": "[encoded data removed]",
      "text/plain": [
       "<Figure size 432x288 with 1 Axes>"
      ]
     },
     "metadata": {
      "needs_background": "light"
     },
     "output_type": "display_data"
    }
   ],
   "source": [
    "import matplotlib.pyplot as plt\n",
    "\n",
    "weights = con_monitor.get('w')[:,0,0]\n",
    "plt.plot(weights)"
   ]
  },
  {
   "cell_type": "code",
   "execution_count": 12,
   "id": "544f18dd",
   "metadata": {},
   "outputs": [],
   "source": [
    "delta_w = []\n",
    "\n",
    "prev_weight = 0\n",
    "for check_time in check_times:\n",
    "    delta_w.append(weights[check_time] - prev_weight)\n",
    "    prev_weight = weights[check_time]"
   ]
  },
  {
   "cell_type": "code",
   "execution_count": 13,
   "id": "29734775",
   "metadata": {},
   "outputs": [
    {
     "data": {
      "text/plain": [
       "[<matplotlib.lines.Line2D at 0x1f71c8895b0>]"
      ]
     },
     "execution_count": 13,
     "metadata": {},
     "output_type": "execute_result"
    },
    {
     "data": {
      "image/png": "[encoded data removed]",
      "text/plain": [
       "<Figure size 432x288 with 1 Axes>"
      ]
     },
     "metadata": {
      "needs_background": "light"
     },
     "output_type": "display_data"
    }
   ],
   "source": [
    "plt.plot(\n",
    "    list(range(-30,30)),\n",
    "    delta_w\n",
    ")"
   ]
  },
  {
   "cell_type": "code",
   "execution_count": null,
   "id": "53646643",
   "metadata": {},
   "outputs": [],
   "source": []
  }
 ],
 "metadata": {
  "kernelspec": {
   "display_name": "Python 3 (ipykernel)",
   "language": "python",
   "name": "python3"
  },
  "language_info": {
   "codemirror_mode": {
    "name": "ipython",
    "version": 3
   },
   "file_extension": ".py",
   "mimetype": "text/x-python",
   "name": "python",
   "nbconvert_exporter": "python",
   "pygments_lexer": "ipython3",
   "version": "3.9.10"
  }
 },
 "nbformat": 4,
 "nbformat_minor": 5
}
