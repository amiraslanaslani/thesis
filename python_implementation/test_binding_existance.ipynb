{
 "cells": [
  {
   "cell_type": "code",
   "execution_count": 1,
   "id": "7971659c",
   "metadata": {},
   "outputs": [],
   "source": [
    "import random\n",
    "\n",
    "import torch\n",
    "import numpy as np\n",
    "from bindsnet.network import Network\n",
    "from bindsnet.network.nodes import Input\n",
    "from bindsnet.learning.learning import MSTDPET, PostPre, NoOp\n",
    "from bindsnet.network.topology import Connection\n",
    "from bindsnet.network.monitors import Monitor\n",
    "from tqdm import trange\n",
    "\n",
    "from libs.learning import PostPreInh, MSTDPET_SEASONAL, MSTDP_SEASONAL, RSTDP_SEASONAL, AbstractSeasonalLearning\n",
    "from libs.second_appr_simp_t2 import CorticalColumn, LayerConnection, ComplexStructure, load, LAYER_23, LAYER_4\n",
    "from libs.connections import ConnectionWithConvergence, RandomConnection, get_output_size_maxpool1d"
   ]
  },
  {
   "cell_type": "code",
   "execution_count": 2,
   "id": "ab22eedc",
   "metadata": {},
   "outputs": [
    {
     "name": "stdout",
     "output_type": "stream",
     "text": [
      "3829390\n"
     ]
    }
   ],
   "source": [
    "seed = random.randint(0,9999999)\n",
    "print(seed)"
   ]
  },
  {
   "cell_type": "code",
   "execution_count": 3,
   "id": "240992ec",
   "metadata": {},
   "outputs": [
    {
     "data": {
      "text/plain": [
       "<torch._C.Generator at 0x221848aea50>"
      ]
     },
     "execution_count": 3,
     "metadata": {},
     "output_type": "execute_result"
    }
   ],
   "source": [
    "# seed = 1400\n",
    "random.seed(seed)\n",
    "np.random.seed(seed)\n",
    "torch.cuda.manual_seed_all(seed)\n",
    "torch.manual_seed(seed)"
   ]
  },
  {
   "cell_type": "markdown",
   "id": "dbde26f2",
   "metadata": {},
   "source": [
    "# Load Model"
   ]
  },
  {
   "cell_type": "code",
   "execution_count": 4,
   "id": "1e768f67",
   "metadata": {},
   "outputs": [],
   "source": [
    "model = load('models/c3.pt')\n",
    "model.disable_learning()"
   ]
  },
  {
   "cell_type": "code",
   "execution_count": 5,
   "id": "789fee77",
   "metadata": {},
   "outputs": [],
   "source": [
    "network = Network(dt=1.0)\n",
    "model.add_to_network(network)"
   ]
  },
  {
   "cell_type": "markdown",
   "id": "273a0344",
   "metadata": {},
   "source": [
    "# Check C1 --> C3 Acitvity"
   ]
  },
  {
   "cell_type": "code",
   "execution_count": 6,
   "id": "a8d6909b",
   "metadata": {},
   "outputs": [],
   "source": [
    "input_size_c1 = 200\n",
    "input_size_c2 = 200\n",
    "each_session = 40\n",
    "session_number = 10\n",
    "gap_time = 20\n",
    "\n",
    "time = session_number * each_session\n",
    "spike_train_c1 = torch.zeros(time, input_size_c1).bool()\n",
    "spike_train_c2 = torch.zeros(time, input_size_c2).bool()\n",
    "timestep_class = torch.zeros(time).bool()\n",
    "\n",
    "session_class = torch.rand(session_number) < 0.5\n",
    "active_fire_rate = 0.2\n",
    "\n",
    "pattern_size = int(input_size_c1/2)\n",
    "for idx, cls in enumerate(session_class):\n",
    "    passive_noise = torch.rand(each_session, input_size_c1) < 0.01 + (random.random() * 0.01 - 0.005)\n",
    "    spike_train_c1[idx * each_session: (idx + 1) * each_session, :] = passive_noise\n",
    "    if cls:\n",
    "        pattern_1 = torch.rand(each_session, pattern_size) < active_fire_rate\n",
    "        pattern_1[each_session - gap_time:, :] = 0\n",
    "        spike_train_c1[idx * each_session: (idx + 1) * each_session, :int(input_size_c1/2)] |= pattern_1\n",
    "    else:\n",
    "        pattern_2 = torch.rand(each_session, pattern_size) < active_fire_rate\n",
    "        pattern_2[each_session - gap_time:, :] = 0\n",
    "        spike_train_c1[idx * each_session: (idx + 1) * each_session, int(input_size_c1/2):] |= pattern_2\n",
    "    \n",
    "    timestep_class[idx * each_session: (idx + 1) * each_session] = cls\n",
    "   \n",
    "pattern_size = int(input_size_c2/2)\n",
    "for idx, cls in enumerate(session_class):\n",
    "    passive_noise = torch.rand(each_session, input_size_c2) < 0.01 + (random.random() * 0.01 - 0.005)\n",
    "    spike_train_c2[idx * each_session: (idx + 1) * each_session, :] = passive_noise"
   ]
  },
  {
   "cell_type": "code",
   "execution_count": 7,
   "id": "c9544094",
   "metadata": {},
   "outputs": [
    {
     "data": {
      "text/plain": [
       "<matplotlib.image.AxesImage at 0x221c8bdca00>"
      ]
     },
     "execution_count": 7,
     "metadata": {},
     "output_type": "execute_result"
    },
    {
     "data": {
      "image/png": "[encoded data removed]",
      "text/plain": [
       "<Figure size 1440x2016 with 2 Axes>"
      ]
     },
     "metadata": {
      "needs_background": "light"
     },
     "output_type": "display_data"
    }
   ],
   "source": [
    "import matplotlib.pyplot as plt\n",
    "\n",
    "fig, axs = plt.subplots(1, 2, figsize=(20, 28))\n",
    "axs[0].matshow(spike_train_c1.T[:, :])\n",
    "axs[1].matshow(spike_train_c2.T[:, :])"
   ]
  },
  {
   "cell_type": "code",
   "execution_count": 8,
   "id": "8bfffee2",
   "metadata": {},
   "outputs": [
    {
     "name": "stderr",
     "output_type": "stream",
     "text": [
      "100%|████████████████████████████████████████████████████████████████████████████████████████████████████████████████████████████████████████████████████████████████████████████████████████████████████| 10/10 [00:03<00:00,  3.13parts/s]\n"
     ]
    }
   ],
   "source": [
    "for part in trange(session_number, unit=\"parts\"):\n",
    "    inp = {\n",
    "        'input_c1': spike_train_c1[part*each_session:part*each_session+each_session, :],\n",
    "        'input_c2': spike_train_c2[part*each_session:part*each_session+each_session, :],\n",
    "    }\n",
    "    network.run(inputs=inp, time=each_session)"
   ]
  },
  {
   "cell_type": "code",
   "execution_count": 9,
   "id": "6ef603bd",
   "metadata": {},
   "outputs": [
    {
     "data": {
      "image/png": "[encoded data removed]",
      "text/plain": [
       "<Figure size 1152x144 with 1 Axes>"
      ]
     },
     "metadata": {
      "needs_background": "light"
     },
     "output_type": "display_data"
    },
    {
     "data": {
      "image/png": "[encoded data removed]",
      "text/plain": [
       "<Figure size 1152x144 with 1 Axes>"
      ]
     },
     "metadata": {
      "needs_background": "light"
     },
     "output_type": "display_data"
    }
   ],
   "source": [
    "for name, monitor in model.submodules[2].l23.monitors:\n",
    "    spikes = monitor.get('s').T[:, 0, :]\n",
    "    plt.matshow(spikes)"
   ]
  },
  {
   "cell_type": "code",
   "execution_count": 10,
   "id": "98acb4da",
   "metadata": {},
   "outputs": [],
   "source": [
    "model.monitors_reset_state_variables()"
   ]
  },
  {
   "cell_type": "markdown",
   "id": "a8d7502f",
   "metadata": {},
   "source": [
    "# Check C2 --> C3 Acitvity"
   ]
  },
  {
   "cell_type": "code",
   "execution_count": 11,
   "id": "3539efb1",
   "metadata": {},
   "outputs": [],
   "source": [
    "input_size_c1 = 200\n",
    "input_size_c2 = 200\n",
    "each_session = 40\n",
    "session_number = 10\n",
    "gap_time = 20\n",
    "\n",
    "time = session_number * each_session\n",
    "spike_train_c1 = torch.zeros(time, input_size_c1).bool()\n",
    "spike_train_c2 = torch.zeros(time, input_size_c2).bool()\n",
    "timestep_class = torch.zeros(time).bool()\n",
    "\n",
    "session_class = torch.rand(session_number) < 0.5\n",
    "active_fire_rate = 0.2\n",
    "\n",
    "pattern_size = int(input_size_c1/2)\n",
    "for idx, cls in enumerate(session_class):\n",
    "    passive_noise = torch.rand(each_session, input_size_c1) < 0.01 + (random.random() * 0.01 - 0.005)\n",
    "    spike_train_c1[idx * each_session: (idx + 1) * each_session, :] = passive_noise\n",
    "    \n",
    "pattern_size = int(input_size_c2/2)\n",
    "for idx, cls in enumerate(session_class):\n",
    "    passive_noise = torch.rand(each_session, input_size_c2) < 0.01 + (random.random() * 0.01 - 0.005)\n",
    "    spike_train_c2[idx * each_session: (idx + 1) * each_session, :] = passive_noise\n",
    "    if cls:\n",
    "        pattern_1 = torch.rand(each_session, pattern_size) < active_fire_rate\n",
    "        pattern_1[each_session - gap_time:, :] = 0\n",
    "        spike_train_c2[idx * each_session: (idx + 1) * each_session, :int(input_size_c2/2)] |= pattern_1\n",
    "    else:\n",
    "        pattern_2 = torch.rand(each_session, pattern_size) < active_fire_rate\n",
    "        pattern_2[each_session - gap_time:, :] = 0\n",
    "        spike_train_c2[idx * each_session: (idx + 1) * each_session, int(input_size_c2/2):] |= pattern_2\n",
    "    \n",
    "    timestep_class[idx * each_session: (idx + 1) * each_session] = cls"
   ]
  },
  {
   "cell_type": "code",
   "execution_count": 12,
   "id": "64a95eaf",
   "metadata": {},
   "outputs": [
    {
     "data": {
      "text/plain": [
       "<matplotlib.image.AxesImage at 0x221c8eab340>"
      ]
     },
     "execution_count": 12,
     "metadata": {},
     "output_type": "execute_result"
    },
    {
     "data": {
      "image/png": "[encoded data removed]",
      "text/plain": [
       "<Figure size 1440x2016 with 2 Axes>"
      ]
     },
     "metadata": {
      "needs_background": "light"
     },
     "output_type": "display_data"
    }
   ],
   "source": [
    "import matplotlib.pyplot as plt\n",
    "\n",
    "fig, axs = plt.subplots(1, 2, figsize=(20, 28))\n",
    "axs[0].matshow(spike_train_c1.T[:, :])\n",
    "axs[1].matshow(spike_train_c2.T[:, :])"
   ]
  },
  {
   "cell_type": "code",
   "execution_count": 13,
   "id": "b4735c2e",
   "metadata": {},
   "outputs": [
    {
     "name": "stderr",
     "output_type": "stream",
     "text": [
      "100%|████████████████████████████████████████████████████████████████████████████████████████████████████████████████████████████████████████████████████████████████████████████████████████████████████| 10/10 [00:03<00:00,  3.07parts/s]\n"
     ]
    }
   ],
   "source": [
    "for part in trange(session_number, unit=\"parts\"):\n",
    "    inp = {\n",
    "        'input_c1': spike_train_c1[part*each_session:part*each_session+each_session, :],\n",
    "        'input_c2': spike_train_c2[part*each_session:part*each_session+each_session, :],\n",
    "    }\n",
    "    network.run(inputs=inp, time=each_session)"
   ]
  },
  {
   "cell_type": "code",
   "execution_count": 14,
   "id": "cf021f2e",
   "metadata": {},
   "outputs": [
    {
     "data": {
      "image/png": "[encoded data removed]",
      "text/plain": [
       "<Figure size 1152x144 with 1 Axes>"
      ]
     },
     "metadata": {
      "needs_background": "light"
     },
     "output_type": "display_data"
    },
    {
     "data": {
      "image/png": "[encoded data removed]",
      "text/plain": [
       "<Figure size 1152x144 with 1 Axes>"
      ]
     },
     "metadata": {
      "needs_background": "light"
     },
     "output_type": "display_data"
    }
   ],
   "source": [
    "for name, monitor in model.submodules[2].l23.monitors:\n",
    "    spikes = monitor.get('s').T[:, 0, :]\n",
    "    plt.matshow(spikes)"
   ]
  },
  {
   "cell_type": "code",
   "execution_count": 15,
   "id": "0e4f7b35",
   "metadata": {},
   "outputs": [],
   "source": [
    "model.monitors_reset_state_variables()"
   ]
  }
 ],
 "metadata": {
  "kernelspec": {
   "display_name": "Python 3 (ipykernel)",
   "language": "python",
   "name": "python3"
  },
  "language_info": {
   "codemirror_mode": {
    "name": "ipython",
    "version": 3
   },
   "file_extension": ".py",
   "mimetype": "text/x-python",
   "name": "python",
   "nbconvert_exporter": "python",
   "pygments_lexer": "ipython3",
   "version": "3.9.10"
  }
 },
 "nbformat": 4,
 "nbformat_minor": 5
}
