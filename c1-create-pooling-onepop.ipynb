{
 "cells": [
  {
   "cell_type": "code",
   "execution_count": 1,
   "id": "e9d39a8c",
   "metadata": {},
   "outputs": [],
   "source": [
    "import random\n",
    "\n",
    "import torch\n",
    "import numpy as np\n",
    "from bindsnet.network import Network\n",
    "from bindsnet.network.nodes import Input\n",
    "from bindsnet.learning.learning import MSTDPET, PostPre, NoOp\n",
    "from bindsnet.network.topology import Connection\n",
    "from bindsnet.network.monitors import Monitor\n",
    "\n",
    "from libs.learning import PostPreInh, MSTDPET_SEASONAL, MSTDP_SEASONAL, RSTDP_SEASONAL, RSTDP_INH_SEASONAL, AbstractSeasonalLearning, PostPreWMatrix\n",
    "from libs.second_appr_simp_t2 import CorticalColumn, LayerConnection, ComplexStructure, LAYER_23, LAYER_4\n",
    "from libs.connections import ConnectionWithConvergence, RandomConnection, MaxPool1dConnection, get_output_size_maxpool1d\n",
    "from libs.network import MultiConnectionNetwork"
   ]
  },
  {
   "cell_type": "code",
   "execution_count": 2,
   "id": "efc7bd0a",
   "metadata": {},
   "outputs": [
    {
     "name": "stdout",
     "output_type": "stream",
     "text": [
      "3370465\n"
     ]
    }
   ],
   "source": [
    "model_name = 'c1'\n",
    "seed = random.randint(0,9999999)\n",
    "print(seed)"
   ]
  },
  {
   "cell_type": "code",
   "execution_count": 3,
   "id": "4a51aeab",
   "metadata": {},
   "outputs": [
    {
     "data": {
      "text/plain": [
       "<torch._C.Generator at 0x1df8da7fa70>"
      ]
     },
     "execution_count": 3,
     "metadata": {},
     "output_type": "execute_result"
    }
   ],
   "source": [
    "# seed = 1400\n",
    "random.seed(seed)\n",
    "np.random.seed(seed)\n",
    "torch.cuda.manual_seed_all(seed)\n",
    "torch.manual_seed(seed)"
   ]
  },
  {
   "cell_type": "code",
   "execution_count": 4,
   "id": "e46471e0",
   "metadata": {},
   "outputs": [],
   "source": [
    "input_size = 200\n",
    "each_session = 40\n",
    "session_number = 1000\n",
    "# layer23_involve_from = 500\n",
    "backward_connection_involve_from = 800\n",
    "gap_time = 20\n",
    "\n",
    "time = session_number * each_session\n",
    "spike_train = torch.zeros(time, input_size).bool()\n",
    "timestep_class = torch.zeros(time).bool()\n",
    "\n",
    "session_class = torch.rand(session_number) < 0.5\n",
    "# session_class = torch.tensor(([True, False] * int((session_number + 1) / 2))[:session_number])\n",
    "\n",
    "active_fire_rate = 0.2\n",
    "pattern_size = int(input_size/2)\n",
    "\n",
    "for idx, cls in enumerate(session_class):\n",
    "    passive_noise = torch.rand(each_session, input_size) < 0.01 + (random.random() * 0.01 - 0.005)\n",
    "    spike_train[idx * each_session: (idx + 1) * each_session, :] = passive_noise\n",
    "    if cls:\n",
    "        pattern_1 = torch.rand(each_session, pattern_size) < active_fire_rate\n",
    "        pattern_1[each_session - gap_time:, :] = 0\n",
    "        spike_train[idx * each_session: (idx + 1) * each_session, :int(input_size/2)] |= pattern_1\n",
    "    else:\n",
    "        pattern_2 = torch.rand(each_session, pattern_size) < active_fire_rate\n",
    "        pattern_2[each_session - gap_time:, :] = 0\n",
    "        spike_train[idx * each_session: (idx + 1) * each_session, int(input_size/2):] |= pattern_2\n",
    "    \n",
    "    timestep_class[idx * each_session: (idx + 1) * each_session] = cls"
   ]
  },
  {
   "cell_type": "code",
   "execution_count": 5,
   "id": "48323f79",
   "metadata": {},
   "outputs": [
    {
     "data": {
      "text/plain": [
       "tensor([[False, False, False,  ..., False, False, False],\n",
       "        [False, False, False,  ..., False, False, False],\n",
       "        [False, False, False,  ..., False, False, False],\n",
       "        ...,\n",
       "        [False, False, False,  ..., False, False, False],\n",
       "        [False, False, False,  ..., False, False, False],\n",
       "        [False, False, False,  ..., False, False, False]])"
      ]
     },
     "execution_count": 5,
     "metadata": {},
     "output_type": "execute_result"
    }
   ],
   "source": [
    "spike_train.T[:, 100:]"
   ]
  },
  {
   "cell_type": "code",
   "execution_count": 6,
   "id": "00576e38",
   "metadata": {},
   "outputs": [
    {
     "data": {
      "text/plain": [
       "<matplotlib.image.AxesImage at 0x1dfd1dae1f0>"
      ]
     },
     "execution_count": 6,
     "metadata": {},
     "output_type": "execute_result"
    },
    {
     "data": {
      "image/png": "[encoded data removed]",
      "text/plain": [
       "<Figure size 552.96x345.6 with 1 Axes>"
      ]
     },
     "metadata": {
      "needs_background": "light"
     },
     "output_type": "display_data"
    }
   ],
   "source": [
    "import matplotlib.pyplot as plt\n",
    "\n",
    "plt.matshow(spike_train.T[:, :8 * each_session])"
   ]
  },
  {
   "cell_type": "code",
   "execution_count": 7,
   "id": "1be64720",
   "metadata": {},
   "outputs": [],
   "source": [
    "connection_args = { # Between Layer\n",
    "    'kernel_size': 5,\n",
    "    'stride': 3\n",
    "}\n",
    "layer_args_l23 = {\n",
    "    'pop_size': get_output_size_maxpool1d(100, 5, 3),\n",
    "    'inh_con_args': { # Inside Layer\n",
    "        'wmin': -4.0,\n",
    "        'wmax': 0,\n",
    "        'update_rule': NoOp,\n",
    "        'probability': 1.0,\n",
    "    },\n",
    "    'pop_args': {\n",
    "        'thresh': -52.0,\n",
    "        'tc_trace': 10,\n",
    "        'traces': True,\n",
    "        'tc_decay': 10,\n",
    "        'refrac': 3,\n",
    "    }\n",
    "}\n",
    "layer_args_l4 = {\n",
    "    'pop_size': 100,\n",
    "    'inh_con_args': { # Inside Layer\n",
    "        'wmin': -4.0,\n",
    "        'wmax': 0,\n",
    "        'update_rule': NoOp,\n",
    "        'probability': 0.30,\n",
    "    },\n",
    "    'pop_args': {\n",
    "        'thresh': -52.0,\n",
    "        'tc_trace': 6,\n",
    "        'traces': True,\n",
    "        'tc_decay': 10,\n",
    "        'refrac': 3,\n",
    "#         'rest':-57\n",
    "    }\n",
    "}\n",
    "backward_args_kw = {\n",
    "    'backward': False,\n",
    "    'backward_exc_args': {\n",
    "        'potential_percent': torch.distributions.beta.Beta(3, 40),  # (\"random\", 0.1, 0.7),\n",
    "        'connection_rate': 0.2,\n",
    "        'before_computation_delay': 0,\n",
    "        'update_rule': RSTDP_SEASONAL,\n",
    "        'direct_voltage_manipulation': True,\n",
    "        'wmin': 0.,\n",
    "        'wmax': 0.95,\n",
    "        'nu': [0.003, 0.008],\n",
    "        'enable': True,\n",
    "\n",
    "        'weight_decay': 0.00005,\n",
    "        'tc_plus': 6,\n",
    "        'tc_minus': 6, \n",
    "        'tc_e_trace': 6,\n",
    "    },\n",
    "    'backward_inh_args': {\n",
    "        'potential_percent': torch.distributions.beta.Beta(3, 40),  # (\"random\", 0.1, 0.7),\n",
    "        'connection_rate': 0.2,\n",
    "        'before_computation_delay': 0,\n",
    "        'update_rule': RSTDP_INH_SEASONAL,\n",
    "        'direct_voltage_manipulation': True,\n",
    "        'wmin': -0.95,\n",
    "        'wmax': 0,\n",
    "        'nu': [0.008, 0.003],\n",
    "        'enable': True,\n",
    "        'behavior': 'inh',\n",
    "\n",
    "        'windows_size': 5,\n",
    "        'windows_std': 0.5,\n",
    "        'weight_decay': 0.00005,\n",
    "        'tc_plus': 6,\n",
    "        'tc_minus': 6, \n",
    "        'tc_e_trace': 6,\n",
    "    }\n",
    "}\n",
    "\n",
    "connection_type = RandomConnection"
   ]
  },
  {
   "cell_type": "code",
   "execution_count": 8,
   "id": "cdf12589",
   "metadata": {},
   "outputs": [],
   "source": [
    "input_pop_c1 = Input(input_size, traces=True, tc_trace=6)\n",
    "input_name = f'input_{model_name}'\n",
    "c1 = CorticalColumn(connection_args, layer_args_l23, layer_args_l4, name=model_name, monitor=LAYER_23|LAYER_4, **backward_args_kw)\n",
    "input_to_c1_connection = LayerConnection((input_name, input_pop_c1), c1, connection_type, {\n",
    "    'wmin': 0.,\n",
    "    'wmax': 0.5,\n",
    "    'nu': [0.02, 0.01],\n",
    "#     'update_rule': PostPre,\n",
    "    'probability': 0.30,\n",
    "    \n",
    "    'update_rule': MSTDPET_SEASONAL,\n",
    "    'tc_plus': 6,\n",
    "    'tc_minus': 6, \n",
    "    'tc_e_trace': 6,\n",
    "})"
   ]
  },
  {
   "cell_type": "code",
   "execution_count": 9,
   "id": "c3c3cb3e",
   "metadata": {},
   "outputs": [],
   "source": [
    "# for so,ta,c in c1.backward_exc_connection.connections:\n",
    "#     t = c.w\n",
    "#     print(so, ta, t.mean(), t[t != 0].mean(),\"\\n\\n\")"
   ]
  },
  {
   "cell_type": "code",
   "execution_count": 10,
   "id": "00021fb6",
   "metadata": {},
   "outputs": [],
   "source": [
    "# for so,ta,c in c1.backward_inh_connection.connections:\n",
    "#     t = c.w\n",
    "#     print(so, ta, t.mean(), t[t != 0].mean(),\"\\n\\n\")"
   ]
  },
  {
   "cell_type": "code",
   "execution_count": 11,
   "id": "5c36580a",
   "metadata": {},
   "outputs": [],
   "source": [
    "c1_with_input = ComplexStructure()\n",
    "c1_with_input.add_pop(input_name, input_pop_c1)\n",
    "c1_with_input.add_submodule(c1)\n",
    "c1_with_input.add_submodule(input_to_c1_connection)\n",
    "c1_with_input.add_outpops_feedforward(c1.get_feedforward_output_pops())\n",
    "c1_with_input.add_inpops_backward(c1.get_backward_input_pops())"
   ]
  },
  {
   "cell_type": "code",
   "execution_count": 12,
   "id": "048d789e",
   "metadata": {},
   "outputs": [],
   "source": [
    "network = MultiConnectionNetwork(dt=1.0)\n",
    "c1_with_input.add_to_network(network)\n",
    "\n",
    "bl_monitors = []\n",
    "bl_monitors_name = []\n",
    "for a, b, con in input_to_c1_connection.connections:\n",
    "    tmp = Monitor(obj=con, state_vars=['converge'])\n",
    "    network.add_monitor(monitor=tmp, name=f\"{a}_{b}_connection_monitor\")\n",
    "    bl_monitors.append(tmp)\n",
    "    bl_monitors_name.append((a, b))\n",
    "    "
   ]
  },
  {
   "cell_type": "code",
   "execution_count": 13,
   "id": "f6131104",
   "metadata": {},
   "outputs": [],
   "source": [
    "# Disable Learning of Backward Connections\n",
    "# c1.backward_connection.disable_learning()"
   ]
  },
  {
   "cell_type": "code",
   "execution_count": 15,
   "id": "fa449011",
   "metadata": {
    "scrolled": true
   },
   "outputs": [
    {
     "name": "stderr",
     "output_type": "stream",
     "text": [
      "  0%|                                                                                                                                                                                                           | 0/1000 [00:00<?, ?parts/s]\n"
     ]
    },
    {
     "ename": "RuntimeError",
     "evalue": "mat1 and mat2 shapes cannot be multiplied (1x100 and 32x32)",
     "output_type": "error",
     "traceback": [
      "\u001b[1;31m---------------------------------------------------------------------------\u001b[0m",
      "\u001b[1;31mRuntimeError\u001b[0m                              Traceback (most recent call last)",
      "Input \u001b[1;32mIn [15]\u001b[0m, in \u001b[0;36m<cell line: 7>\u001b[1;34m()\u001b[0m\n\u001b[0;32m      7\u001b[0m \u001b[38;5;28;01mfor\u001b[39;00m part \u001b[38;5;129;01min\u001b[39;00m trange(session_number, unit\u001b[38;5;241m=\u001b[39m\u001b[38;5;124m\"\u001b[39m\u001b[38;5;124mparts\u001b[39m\u001b[38;5;124m\"\u001b[39m):\n\u001b[0;32m      8\u001b[0m \u001b[38;5;66;03m# for part in trange(1, unit=\"parts\"):\u001b[39;00m\n\u001b[0;32m      9\u001b[0m \n\u001b[1;32m   (...)\u001b[0m\n\u001b[0;32m     19\u001b[0m \u001b[38;5;66;03m#         c1.backward_connection.enable_learning()\u001b[39;00m\n\u001b[0;32m     20\u001b[0m \u001b[38;5;66;03m#         c1.backward_connection.broadcast(\"set_enable\")\u001b[39;00m\n\u001b[0;32m     22\u001b[0m     inp \u001b[38;5;241m=\u001b[39m {input_name: spike_train[part\u001b[38;5;241m*\u001b[39meach_session:part\u001b[38;5;241m*\u001b[39meach_session\u001b[38;5;241m+\u001b[39meach_session, :]}\n\u001b[1;32m---> 23\u001b[0m     \u001b[43mnetwork\u001b[49m\u001b[38;5;241;43m.\u001b[39;49m\u001b[43mrun\u001b[49m\u001b[43m(\u001b[49m\u001b[43minputs\u001b[49m\u001b[38;5;241;43m=\u001b[39;49m\u001b[43minp\u001b[49m\u001b[43m,\u001b[49m\u001b[43m \u001b[49m\u001b[43mtime\u001b[49m\u001b[38;5;241;43m=\u001b[39;49m\u001b[43meach_session\u001b[49m\u001b[43m)\u001b[49m\n\u001b[0;32m     25\u001b[0m     avg_sessions \u001b[38;5;241m=\u001b[39m \u001b[38;5;241m10\u001b[39m\n\u001b[0;32m     26\u001b[0m     in_use_sessions \u001b[38;5;241m=\u001b[39m \u001b[38;5;28mmin\u001b[39m(part \u001b[38;5;241m+\u001b[39m \u001b[38;5;241m1\u001b[39m, avg_sessions)\n",
      "File \u001b[1;32mE:\\master thesis\\code_main\\libs\\network.py:167\u001b[0m, in \u001b[0;36mMultiConnectionNetwork.run\u001b[1;34m(self, inputs, time, one_step, **kwargs)\u001b[0m\n\u001b[0;32m    165\u001b[0m current_inputs \u001b[38;5;241m=\u001b[39m {}\n\u001b[0;32m    166\u001b[0m \u001b[38;5;28;01mif\u001b[39;00m \u001b[38;5;129;01mnot\u001b[39;00m one_step:\n\u001b[1;32m--> 167\u001b[0m     current_inputs\u001b[38;5;241m.\u001b[39mupdate(\u001b[38;5;28;43mself\u001b[39;49m\u001b[38;5;241;43m.\u001b[39;49m\u001b[43m_get_inputs\u001b[49m\u001b[43m(\u001b[49m\u001b[43m)\u001b[49m)\n\u001b[0;32m    169\u001b[0m \u001b[38;5;28;01mfor\u001b[39;00m l \u001b[38;5;129;01min\u001b[39;00m \u001b[38;5;28mself\u001b[39m\u001b[38;5;241m.\u001b[39mlayers:\n\u001b[0;32m    170\u001b[0m     \u001b[38;5;66;03m# Update each layer of nodes.\u001b[39;00m\n\u001b[0;32m    171\u001b[0m     \u001b[38;5;28;01mif\u001b[39;00m l \u001b[38;5;129;01min\u001b[39;00m inputs:\n",
      "File \u001b[1;32mE:\\master thesis\\code_main\\libs\\network.py:57\u001b[0m, in \u001b[0;36mMultiConnectionNetwork._get_inputs\u001b[1;34m(self, layers)\u001b[0m\n\u001b[0;32m     55\u001b[0m         \u001b[38;5;66;03m# Add to input: source's spikes multiplied by connection weights.\u001b[39;00m\n\u001b[0;32m     56\u001b[0m         \u001b[38;5;28;01mfor\u001b[39;00m connection \u001b[38;5;129;01min\u001b[39;00m \u001b[38;5;28mself\u001b[39m\u001b[38;5;241m.\u001b[39mconnections[c]:\n\u001b[1;32m---> 57\u001b[0m             inputs[c[\u001b[38;5;241m1\u001b[39m]] \u001b[38;5;241m+\u001b[39m\u001b[38;5;241m=\u001b[39m \u001b[43mconnection\u001b[49m\u001b[38;5;241;43m.\u001b[39;49m\u001b[43mcompute\u001b[49m\u001b[43m(\u001b[49m\u001b[43msource\u001b[49m\u001b[38;5;241;43m.\u001b[39;49m\u001b[43ms\u001b[49m\u001b[43m)\u001b[49m\n\u001b[0;32m     58\u001b[0m         \u001b[38;5;66;03m# inputs[c[1]] += self.connections[c].compute(source.s)\u001b[39;00m\n\u001b[0;32m     60\u001b[0m \u001b[38;5;28;01mreturn\u001b[39;00m inputs\n",
      "File \u001b[1;32mE:\\master thesis\\code_main\\venv\\lib\\site-packages\\bindsnet\\network\\topology.py:178\u001b[0m, in \u001b[0;36mConnection.compute\u001b[1;34m(self, s)\u001b[0m\n\u001b[0;32m    170\u001b[0m \u001b[38;5;124;03m\"\"\"\u001b[39;00m\n\u001b[0;32m    171\u001b[0m \u001b[38;5;124;03mCompute pre-activations given spikes using connection weights.\u001b[39;00m\n\u001b[0;32m    172\u001b[0m \n\u001b[1;32m   (...)\u001b[0m\n\u001b[0;32m    175\u001b[0m \u001b[38;5;124;03m         decaying spike activation).\u001b[39;00m\n\u001b[0;32m    176\u001b[0m \u001b[38;5;124;03m\"\"\"\u001b[39;00m\n\u001b[0;32m    177\u001b[0m \u001b[38;5;66;03m# Compute multiplication of spike activations by weights and add bias.\u001b[39;00m\n\u001b[1;32m--> 178\u001b[0m post \u001b[38;5;241m=\u001b[39m \u001b[43ms\u001b[49m\u001b[38;5;241;43m.\u001b[39;49m\u001b[43mfloat\u001b[49m\u001b[43m(\u001b[49m\u001b[43m)\u001b[49m\u001b[38;5;241;43m.\u001b[39;49m\u001b[43mview\u001b[49m\u001b[43m(\u001b[49m\u001b[43ms\u001b[49m\u001b[38;5;241;43m.\u001b[39;49m\u001b[43msize\u001b[49m\u001b[43m(\u001b[49m\u001b[38;5;241;43m0\u001b[39;49m\u001b[43m)\u001b[49m\u001b[43m,\u001b[49m\u001b[43m \u001b[49m\u001b[38;5;241;43m-\u001b[39;49m\u001b[38;5;241;43m1\u001b[39;49m\u001b[43m)\u001b[49m\u001b[43m \u001b[49m\u001b[38;5;241;43m@\u001b[39;49m\u001b[43m \u001b[49m\u001b[38;5;28;43mself\u001b[39;49m\u001b[38;5;241;43m.\u001b[39;49m\u001b[43mw\u001b[49m \u001b[38;5;241m+\u001b[39m \u001b[38;5;28mself\u001b[39m\u001b[38;5;241m.\u001b[39mb\n\u001b[0;32m    179\u001b[0m \u001b[38;5;28;01mreturn\u001b[39;00m post\u001b[38;5;241m.\u001b[39mview(s\u001b[38;5;241m.\u001b[39msize(\u001b[38;5;241m0\u001b[39m), \u001b[38;5;241m*\u001b[39m\u001b[38;5;28mself\u001b[39m\u001b[38;5;241m.\u001b[39mtarget\u001b[38;5;241m.\u001b[39mshape)\n",
      "\u001b[1;31mRuntimeError\u001b[0m: mat1 and mat2 shapes cannot be multiplied (1x100 and 32x32)"
     ]
    }
   ],
   "source": [
    "from tqdm import trange\n",
    "\n",
    "rewards = []\n",
    "changes = []\n",
    "activities = []\n",
    "# inputs = {'input_c1' : spike_train}\n",
    "for part in trange(session_number, unit=\"parts\"):\n",
    "# for part in trange(1, unit=\"parts\"):\n",
    "\n",
    "#     if part == layer23_involve_from:\n",
    "#         c1.l4.disable_learning()\n",
    "#         input_to_c1_connection.disable_learning()\n",
    "        \n",
    "#         c1.l23.enable_learning()\n",
    "#         c1.l4_l23.enable_learning()\n",
    "\n",
    "#     if part == backward_connection_involve_from:\n",
    "#         c1_with_input.disable_learning()\n",
    "#         c1.backward_connection.enable_learning()\n",
    "#         c1.backward_connection.broadcast(\"set_enable\")\n",
    "        \n",
    "    inp = {input_name: spike_train[part*each_session:part*each_session+each_session, :]}\n",
    "    network.run(inputs=inp, time=each_session)\n",
    "    \n",
    "    avg_sessions = 10\n",
    "    in_use_sessions = min(part + 1, avg_sessions)\n",
    "    exc1_avg = c1.l23.monitors[0][1].get('s')[-each_session * in_use_sessions:,0,:].sum() / in_use_sessions\n",
    "    exc2_avg = c1.l23.monitors[1][1].get('s')[-each_session * in_use_sessions:,0,:].sum() / in_use_sessions\n",
    "    \n",
    "    exc1_act = c1.l23.monitors[0][1].get('s')[-each_session:,0,:].sum()# - exc1_avg\n",
    "    exc2_act = c1.l23.monitors[1][1].get('s')[-each_session:,0,:].sum()# - exc2_avg\n",
    "    \n",
    "    activities.append((exc1_act, exc2_act))\n",
    "    \n",
    "    pattern = session_class[part]\n",
    "    gap = abs(exc2_act - exc1_act) / layer_args_l23['exc_size']  #  In Range 0-1\n",
    "    gap_check = abs(exc2_act - exc1_act) / layer_args_l23['exc_size'] > 0.3\n",
    "    \n",
    "    exc1_wins = exc1_act > exc2_act\n",
    "    \n",
    "    if pattern == exc1_wins and gap_check:\n",
    "        reward = 1.0 + gap\n",
    "    elif pattern == exc1_wins:\n",
    "        reward = -0.1 + gap\n",
    "    else:\n",
    "        reward = -1 - gap\n",
    "    \n",
    "#     if pattern and exc1_act > 20 and exc2_act < 10:\n",
    "#         reward = 1.0 + gap\n",
    "#     elif not pattern and exc2_act > 20 and exc1_act < 10:\n",
    "#         reward = 1.0 + gap\n",
    "#     elif exc1_wins != pattern:\n",
    "#         reward = -1 - gap\n",
    "#     else:\n",
    "#         reward = -0.1\n",
    "        \n",
    "    rewards.append(reward)\n",
    "    \n",
    "    for conn in input_to_c1_connection.get_connections():  # + c1.backward_exc_connection.get_connections() + c1.backward_inh_connection.get_connections():\n",
    "        if isinstance(conn[2].update_rule, AbstractSeasonalLearning):\n",
    "            change = conn[2].update_rule.trigger(reward)\n",
    "            changes.append(change)\n",
    "    "
   ]
  },
  {
   "cell_type": "code",
   "execution_count": null,
   "id": "e11615ab",
   "metadata": {
    "scrolled": true
   },
   "outputs": [],
   "source": [
    "# c1.l23.disable_learning()\n",
    "# c1.l4_l23.disable_learning"
   ]
  },
  {
   "cell_type": "code",
   "execution_count": null,
   "id": "7e3b0725",
   "metadata": {},
   "outputs": [],
   "source": [
    "rewards[-300:]"
   ]
  },
  {
   "cell_type": "code",
   "execution_count": null,
   "id": "a4182b03",
   "metadata": {},
   "outputs": [],
   "source": [
    "session_class[-300:]"
   ]
  },
  {
   "cell_type": "code",
   "execution_count": null,
   "id": "bc106779",
   "metadata": {},
   "outputs": [],
   "source": [
    "# for i in range(100):\n",
    "#     x = torch.linspace(-0.05, 0.05, steps=40)\n",
    "#     plt.bar(x, torch.histc(changes[i], bins=40, min=-0.05, max=0.05), align='center', width=0.002)\n",
    "#     plt.figure()"
   ]
  },
  {
   "cell_type": "markdown",
   "id": "19d54098",
   "metadata": {},
   "source": [
    "## Convergence"
   ]
  },
  {
   "cell_type": "code",
   "execution_count": null,
   "id": "d4bc7882",
   "metadata": {},
   "outputs": [],
   "source": [
    "for name, m in zip(bl_monitors_name, bl_monitors):\n",
    "    print(name)\n",
    "    plt.figure()\n",
    "    plt.plot(m.get('converge'))"
   ]
  },
  {
   "cell_type": "code",
   "execution_count": null,
   "id": "738f96fd",
   "metadata": {
    "scrolled": false
   },
   "outputs": [],
   "source": [
    "# plt.plot(inp_2_c1_monitor_1.get('converge'))\n",
    "# plt.figure()\n",
    "# plt.plot(inp_2_c1_monitor_2.get('converge'))"
   ]
  },
  {
   "cell_type": "code",
   "execution_count": null,
   "id": "cdfa7490",
   "metadata": {},
   "outputs": [],
   "source": [
    "time_show = time"
   ]
  },
  {
   "cell_type": "code",
   "execution_count": null,
   "id": "ea63a9a8",
   "metadata": {},
   "outputs": [],
   "source": [
    "spikes = {\n",
    "    \"L4 | 1\": c1.l4.monitors[0][1].get('s')[-time_show:,0,:].T, \n",
    "    \"L4 | 2\": c1.l4.monitors[1][1].get('s')[-time_show:,0,:].T, \n",
    "    \n",
    "    \"L23 | 1\": c1.l23.monitors[0][1].get('s')[-time_show:,0,:].T, \n",
    "    \"L23 | 2\": c1.l23.monitors[1][1].get('s')[-time_show:,0,:].T,\n",
    "}"
   ]
  },
  {
   "cell_type": "markdown",
   "id": "82b48b03",
   "metadata": {},
   "source": [
    "## Confusion"
   ]
  },
  {
   "cell_type": "markdown",
   "id": "2d2c7c78",
   "metadata": {},
   "source": [
    "### Layer 4"
   ]
  },
  {
   "cell_type": "code",
   "execution_count": null,
   "id": "edf2cf60",
   "metadata": {
    "scrolled": true
   },
   "outputs": [],
   "source": [
    "print(f\"L4 -- Excitatory 1 -- Pattern 1     :    {spikes['L4 | 1'][:, -1500:][:, timestep_class[-1500:]].sum() / session_class[-50:].sum()}\")\n",
    "print(f\"L4 -- Excitatory 1 -- Pattern 2     :    {spikes['L4 | 1'][:, -1500:][:, ~ timestep_class[-1500:]].sum() / (~ session_class)[-50:].sum()}\")\n",
    "print(f\"L4 -- Excitatory 2 -- Pattern 1     :    {spikes['L4 | 2'][:, -1500:][:, timestep_class[-1500:]].sum() / session_class[-50:].sum()}\")\n",
    "print(f\"L4 -- Excitatory 2 -- Pattern 2     :    {spikes['L4 | 2'][:, -1500:][:, ~ timestep_class[-1500:]].sum() / (~ session_class)[-50:].sum()}\")"
   ]
  },
  {
   "cell_type": "code",
   "execution_count": null,
   "id": "18c7b7f4",
   "metadata": {},
   "outputs": [],
   "source": [
    "print(f\"L4 -- Excitatory 1 -- Pattern 1     :    {spikes['L4 | 1'][:, -3000:][:, timestep_class[-3000:]].sum() / session_class[-100:].sum()}\")\n",
    "print(f\"L4 -- Excitatory 1 -- Pattern 2     :    {spikes['L4 | 1'][:, -3000:][:, ~ timestep_class[-3000:]].sum() / (~ session_class)[-100:].sum()}\")\n",
    "print(f\"L4 -- Excitatory 2 -- Pattern 1     :    {spikes['L4 | 2'][:, -3000:][:, timestep_class[-3000:]].sum() / session_class[-100:].sum()}\")\n",
    "print(f\"L4 -- Excitatory 2 -- Pattern 2     :    {spikes['L4 | 2'][:, -3000:][:, ~ timestep_class[-3000:]].sum() / (~ session_class)[-100:].sum()}\")"
   ]
  },
  {
   "cell_type": "code",
   "execution_count": null,
   "id": "5707bbc3",
   "metadata": {},
   "outputs": [],
   "source": [
    "print(f\"L4 -- Excitatory 1 -- Pattern 1     :    {spikes['L4 | 1'][:, timestep_class].sum() / session_class.sum()}\")\n",
    "print(f\"L4 -- Excitatory 1 -- Pattern 2     :    {spikes['L4 | 1'][:, ~ timestep_class].sum() / (~ session_class).sum()}\")\n",
    "print(f\"L4 -- Excitatory 2 -- Pattern 1     :    {spikes['L4 | 2'][:, timestep_class].sum() / session_class.sum()}\")\n",
    "print(f\"L4 -- Excitatory 2 -- Pattern 2     :    {spikes['L4 | 2'][:, ~ timestep_class].sum() / (~ session_class).sum()}\")"
   ]
  },
  {
   "cell_type": "markdown",
   "id": "04b1f904",
   "metadata": {},
   "source": [
    "### Layer 2,3"
   ]
  },
  {
   "cell_type": "code",
   "execution_count": null,
   "id": "1744cef8",
   "metadata": {},
   "outputs": [],
   "source": [
    "print(f\"L4 -- Excitatory 1 -- Pattern 1     :    {spikes['L23 | 1'][:, -1500:][:, timestep_class[-1500:]].sum() / session_class[-50:].sum()}\")\n",
    "print(f\"L4 -- Excitatory 1 -- Pattern 2     :    {spikes['L23 | 1'][:, -1500:][:, ~ timestep_class[-1500:]].sum() / (~ session_class)[-50:].sum()}\")\n",
    "print(f\"L4 -- Excitatory 2 -- Pattern 1     :    {spikes['L23 | 2'][:, -1500:][:, timestep_class[-1500:]].sum() / session_class[-50:].sum()}\")\n",
    "print(f\"L4 -- Excitatory 2 -- Pattern 2     :    {spikes['L23 | 2'][:, -1500:][:, ~ timestep_class[-1500:]].sum() / (~ session_class)[-50:].sum()}\")"
   ]
  },
  {
   "cell_type": "code",
   "execution_count": null,
   "id": "0c43990e",
   "metadata": {
    "scrolled": true
   },
   "outputs": [],
   "source": [
    "print(f\"L23 -- Excitatory 1 -- Pattern 1     :    {spikes['L23 | 1'][:, -3000:][:, timestep_class[-3000:]].sum() / session_class[-100:].sum()}\")\n",
    "print(f\"L23 -- Excitatory 1 -- Pattern 2     :    {spikes['L23 | 1'][:, -3000:][:, ~ timestep_class[-3000:]].sum() / (~ session_class)[-100:].sum()}\")\n",
    "print(f\"L23 -- Excitatory 2 -- Pattern 1     :    {spikes['L23 | 2'][:, -3000:][:, timestep_class[-3000:]].sum() / session_class[-100:].sum()}\")\n",
    "print(f\"L23 -- Excitatory 2 -- Pattern 2     :    {spikes['L23 | 2'][:, -3000:][:, ~ timestep_class[-3000:]].sum() / (~ session_class)[-100:].sum()}\")"
   ]
  },
  {
   "cell_type": "code",
   "execution_count": null,
   "id": "033e4932",
   "metadata": {},
   "outputs": [],
   "source": [
    "print(f\"L23 -- Excitatory 1 -- Pattern 1     :    {spikes['L23 | 1'][:, timestep_class].sum() / session_class.sum()}\")\n",
    "print(f\"L23 -- Excitatory 1 -- Pattern 2     :    {spikes['L23 | 1'][:, ~ timestep_class].sum() / (~ session_class).sum()}\")\n",
    "print(f\"L23 -- Excitatory 2 -- Pattern 1     :    {spikes['L23 | 2'][:, timestep_class].sum() / session_class.sum()}\")\n",
    "print(f\"L23 -- Excitatory 2 -- Pattern 2     :    {spikes['L23 | 2'][:, ~ timestep_class].sum() / (~ session_class).sum()}\")"
   ]
  },
  {
   "cell_type": "markdown",
   "id": "4daa1dca",
   "metadata": {},
   "source": [
    "## Pattern Separation"
   ]
  },
  {
   "cell_type": "code",
   "execution_count": null,
   "id": "5aacc0d9",
   "metadata": {
    "scrolled": true
   },
   "outputs": [],
   "source": [
    "for source, target, connection in input_to_c1_connection.get_connections():\n",
    "    print(f\"{source} (0:99)    --->   {target}   :   {connection.w[:100, :].sum()}\")\n",
    "    print(f\"{source} (100:199) --->   {target}   :   {connection.w[100:, :].sum()}\")"
   ]
  },
  {
   "cell_type": "code",
   "execution_count": null,
   "id": "39bf42ff",
   "metadata": {},
   "outputs": [],
   "source": [
    "# for source, target, connection in c1.l4_l23.connections:\n",
    "#     print(f\"{source}   --->   {target}   :   {connection.w.sum()}\")"
   ]
  },
  {
   "cell_type": "markdown",
   "id": "19585fc4",
   "metadata": {},
   "source": [
    "## Activities"
   ]
  },
  {
   "cell_type": "code",
   "execution_count": null,
   "id": "39580113",
   "metadata": {},
   "outputs": [],
   "source": [
    "plt.matshow(spike_train.T[:, -time_show:])"
   ]
  },
  {
   "cell_type": "code",
   "execution_count": null,
   "id": "2780a83e",
   "metadata": {},
   "outputs": [],
   "source": [
    "c1.l4.monitors[0][1].get('s').shape"
   ]
  },
  {
   "cell_type": "code",
   "execution_count": null,
   "id": "1aaacd5b",
   "metadata": {},
   "outputs": [],
   "source": [
    "spikes[\"L4 | 1\"].shape"
   ]
  },
  {
   "cell_type": "code",
   "execution_count": null,
   "id": "4cdc95c7",
   "metadata": {},
   "outputs": [],
   "source": [
    "spikes[\"L4 | 1\"].sum(0).shape[0]"
   ]
  },
  {
   "cell_type": "code",
   "execution_count": null,
   "id": "599b3271",
   "metadata": {},
   "outputs": [],
   "source": [
    "spikes[\"L4 | 1\"][:,-150:]"
   ]
  },
  {
   "cell_type": "code",
   "execution_count": null,
   "id": "e6b6812f",
   "metadata": {},
   "outputs": [],
   "source": [
    "spikes[\"L4 | 1\"][:,-300:-270].sum()"
   ]
  },
  {
   "cell_type": "code",
   "execution_count": null,
   "id": "f5728418",
   "metadata": {},
   "outputs": [],
   "source": [
    "x = 999\n",
    "plt.matshow(spike_train.T[:, x * each_session:x * each_session + each_session])"
   ]
  },
  {
   "cell_type": "code",
   "execution_count": null,
   "id": "9d9ca073",
   "metadata": {},
   "outputs": [],
   "source": [
    "x = 995\n",
    "plt.matshow(spikes[\"L4 | 1\"][:, x * each_session:x * each_session + each_session])\n",
    "plt.matshow(spikes[\"L4 | 2\"][:, x * each_session:x * each_session + each_session])"
   ]
  },
  {
   "cell_type": "code",
   "execution_count": null,
   "id": "61a5e523",
   "metadata": {},
   "outputs": [],
   "source": [
    "ver_num = len(spikes)\n",
    "fig, axes = plt.subplots(ver_num * 3, 1, figsize=(100, 100), gridspec_kw={'height_ratios': [50, 10, 1] * ver_num})\n",
    "# fig.suptitle(f\"Spikes: t={start_time}-{end_time}\")\n",
    "for idx, layer in enumerate(spikes):\n",
    "    indx = idx * 3\n",
    "    axes[indx].matshow(spikes[layer], cmap='Greys')\n",
    "    axes[indx].set_title('%s spikes' % layer)\n",
    "    axes[indx].set_xlabel('Time')\n",
    "    axes[indx].set_ylabel('Index of neuron')\n",
    "    axes[indx].set_aspect('auto')\n",
    "    \n",
    "    activity = spikes[layer].sum(0)\n",
    "    axes[indx + 1].plot(activity)\n",
    "    axes[indx + 1].set_aspect('auto')\n",
    "    axes[indx + 1].set_xlim([0, activity.shape[0]])\n",
    "    \n",
    "    axes[indx + 2].matshow(timestep_class[-time_show:].unsqueeze(1).T)\n",
    "    axes[indx + 2].set_aspect('auto')"
   ]
  },
  {
   "cell_type": "code",
   "execution_count": null,
   "id": "640ceda4",
   "metadata": {
    "scrolled": false
   },
   "outputs": [],
   "source": [
    "# x = 499\n",
    "for x in range(backward_connection_involve_from - 10, backward_connection_involve_from):\n",
    "    fig, (ax1, ax2) = plt.subplots(1, 2)\n",
    "    print(session_class[x])\n",
    "#     plt.matshow(timestep_class[x * each_session:x * each_session + each_session].unsqueeze(1).T)\n",
    "    ax1.matshow(spikes[\"L23 | 1\"][:, x * each_session:x * each_session + each_session])\n",
    "    ax2.matshow(spikes[\"L23 | 2\"][:, x * each_session:x * each_session + each_session])\n",
    "    fig.suptitle(f'Spikes in range {x * each_session}ms - {x * each_session + each_session}ms')\n",
    "    ax1.set_title(\"Population 1\")\n",
    "    ax2.set_title(\"Population 2\")"
   ]
  },
  {
   "cell_type": "code",
   "execution_count": null,
   "id": "6018e2ef",
   "metadata": {
    "scrolled": false
   },
   "outputs": [],
   "source": [
    "for x in range(backward_connection_involve_from, backward_connection_involve_from + 10):\n",
    "    fig, (ax1, ax2) = plt.subplots(1, 2)\n",
    "    print(session_class[x])\n",
    "#     plt.matshow(timestep_class[x * each_session:x * each_session + each_session].unsqueeze(1).T)\n",
    "    ax1.matshow(spikes[\"L23 | 1\"][:, x * each_session:x * each_session + each_session])\n",
    "    ax2.matshow(spikes[\"L23 | 2\"][:, x * each_session:x * each_session + each_session])\n",
    "    fig.suptitle(f'Spikes in range {x * each_session}ms - {x * each_session + each_session}ms')\n",
    "    ax1.set_title(\"Population 1\")\n",
    "    ax2.set_title(\"Population 2\")"
   ]
  },
  {
   "cell_type": "code",
   "execution_count": null,
   "id": "15b71547",
   "metadata": {
    "scrolled": false
   },
   "outputs": [],
   "source": [
    "# x = 499\n",
    "for x in range(session_number - 10, session_number):\n",
    "    fig, (ax1, ax2) = plt.subplots(1, 2)\n",
    "    print(session_class[x])\n",
    "#     plt.matshow(timestep_class[x * each_session:x * each_session + each_session].unsqueeze(1).T)\n",
    "    ax1.matshow(spikes[\"L23 | 1\"][:, x * each_session:x * each_session + each_session])\n",
    "    ax2.matshow(spikes[\"L23 | 2\"][:, x * each_session:x * each_session + each_session])\n",
    "    fig.suptitle(f'Spikes in range {x * each_session}ms - {x * each_session + each_session}ms')\n",
    "    ax1.set_title(\"Population 1\")\n",
    "    ax2.set_title(\"Population 2\")"
   ]
  },
  {
   "cell_type": "markdown",
   "id": "ea0113cb",
   "metadata": {},
   "source": [
    "# Add Backward Connections"
   ]
  },
  {
   "cell_type": "code",
   "execution_count": null,
   "id": "dfd590cd",
   "metadata": {},
   "outputs": [],
   "source": [
    "# c1.backward_connection.broadcast(\"set_enable\")"
   ]
  },
  {
   "cell_type": "code",
   "execution_count": null,
   "id": "00956388",
   "metadata": {},
   "outputs": [],
   "source": [
    "# c1.backward_exc_connection.connections[0][2].enable"
   ]
  },
  {
   "cell_type": "code",
   "execution_count": null,
   "id": "2e1644b6",
   "metadata": {},
   "outputs": [],
   "source": [
    "# for so,ta,c in c1.backward_exc_connection.get_connections():\n",
    "#     t = c.w\n",
    "#     print(so, ta, t.mean(), t[t != 0].mean(),\"\\n\\n\")"
   ]
  },
  {
   "cell_type": "code",
   "execution_count": null,
   "id": "57cd9cdf",
   "metadata": {},
   "outputs": [],
   "source": [
    "# for so,ta,c in c1.backward_inh_connection.get_connections():\n",
    "#     t = c.w\n",
    "#     print(so, ta, t.mean(), t[t != 0].mean(),\"\\n\\n\")"
   ]
  },
  {
   "cell_type": "code",
   "execution_count": null,
   "id": "8eeb1174",
   "metadata": {},
   "outputs": [],
   "source": [
    "# (c1.backward_exc_connection.connections[2][2].w == 0).sum()"
   ]
  },
  {
   "cell_type": "code",
   "execution_count": null,
   "id": "6a0bc435",
   "metadata": {},
   "outputs": [],
   "source": []
  },
  {
   "cell_type": "markdown",
   "id": "2c7d76b0",
   "metadata": {},
   "source": [
    "# Save Model And Notebook"
   ]
  },
  {
   "cell_type": "code",
   "execution_count": null,
   "id": "5185af82",
   "metadata": {},
   "outputs": [],
   "source": [
    "%%javascript\n",
    "function custom_kernel_ready_handler() {\n",
    "    require([\"base/js/namespace\"],function(Jupyter) {\n",
    "        Jupyter.notebook.save_checkpoint();\n",
    "    });\n",
    "    IPython.notebook.kernel.execute('nb_name = \"' + IPython.notebook.notebook_name + '\"')\n",
    "}\n",
    "\n",
    "function handle_kernel_ready() {\n",
    "    // Create a nb_name variable with the name of the notebook\n",
    "     console.log('kernel_ready.Kernel: handle_kernel_ready() was triggered!');\n",
    "     custom_kernel_ready_handler();\n",
    "\n",
    "     Jupyter.notebook.events.one('kernel_ready.Kernel', () => {\n",
    "         //this recursive behavior is esential for `restart` kernel\n",
    "         handle_kernel_ready();\n",
    "    });\n",
    "}\n",
    "\n",
    "Jupyter.notebook.events.one('kernel_ready.Kernel', () => {\n",
    "     handle_kernel_ready();\n",
    "});\n",
    "\n",
    "handle_kernel_ready();"
   ]
  },
  {
   "cell_type": "code",
   "execution_count": null,
   "id": "d639a799",
   "metadata": {},
   "outputs": [],
   "source": [
    "c1_with_input.disable_learning()\n",
    "c1_with_input.save(f'models/{model_name}.pt')"
   ]
  },
  {
   "cell_type": "code",
   "execution_count": null,
   "id": "f1c6a53a",
   "metadata": {},
   "outputs": [],
   "source": [
    "import os\n",
    "command = os.popen(f\"jupyter-nbconvert --to html ./{nb_name} --stdout > models/{model_name}.html\")"
   ]
  },
  {
   "cell_type": "code",
   "execution_count": null,
   "id": "5db01854",
   "metadata": {},
   "outputs": [],
   "source": []
  }
 ],
 "metadata": {
  "kernelspec": {
   "display_name": "Python 3 (ipykernel)",
   "language": "python",
   "name": "python3"
  },
  "language_info": {
   "codemirror_mode": {
    "name": "ipython",
    "version": 3
   },
   "file_extension": ".py",
   "mimetype": "text/x-python",
   "name": "python",
   "nbconvert_exporter": "python",
   "pygments_lexer": "ipython3",
   "version": "3.9.10"
  }
 },
 "nbformat": 4,
 "nbformat_minor": 5
}
